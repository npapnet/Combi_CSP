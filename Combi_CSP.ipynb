{
 "cells": [
  {
   "cell_type": "markdown",
   "metadata": {
    "hideCode": false,
    "hidePrompt": false
   },
   "source": [
    "<h1><center>Dynamic Modeling of Combined Concentrating Solar Tower and Parabolic Trough for\n",
    "Increased Day-to-Day Performance</center></h1>"
   ]
  },
  {
   "cell_type": "code",
   "execution_count": null,
   "metadata": {},
   "outputs": [],
   "source": [
    "import numpy as np\n",
    "import matplotlib.pyplot as plt\n",
    "# from pylab import *\n",
    "from scipy import interpolate, integrate\n",
    "import pathlib\n",
    "import pvlib\n",
    "\n",
    "# from SolarGeometry_hoy import *\n",
    "import SolarGeometry_hoy as sgh\n",
    "from CSP import *\n",
    "from CSPplot import heatmap2d"
   ]
  },
  {
   "cell_type": "markdown",
   "metadata": {},
   "source": []
  },
  {
   "cell_type": "code",
   "execution_count": null,
   "metadata": {},
   "outputs": [],
   "source": [
    "# constants\n",
    "hoy = np.arange(1, 8761, 1) \n",
    "IMG_FOLDER  = pathlib.Path(\"imgs/\")"
   ]
  },
  {
   "cell_type": "code",
   "execution_count": null,
   "metadata": {},
   "outputs": [],
   "source": [
    "x = [5,15,25,45,65,89.5]\n",
    "#x = [90 - x1]\n",
    "y = [0,30,60,75,90,110,130]\n",
    "Z = np.array([[0.216,0.446,0.560,0.719,0.684,0.683],\n",
    "[0.215,0.448,0.558,0.640,0.670,0.683],\n",
    "[0.206,0.425,0.537,0.626,0.671,0.686],\n",
    "[0.204,0.423,0.522,0.618,0.668,0.672],\n",
    "[0.199,0.405,0.516,0.605,0.660,0.682],\n",
    "[0.194,0.392,0.498,0.594,0.655,0.687],\n",
    "[0.192,0.385,0.491,0.599,0.641,0.681]])\n",
    "\n",
    "X,Y = np.meshgrid(x,y)\n",
    "\n",
    "plt.contourf(X, Y, Z, 8, alpha=.75, cmap='gray')\n",
    "C = plt.contour(X, Y, Z, 8, colors='black', linewidths=.5)\n",
    "plt.xlabel('Elevation (deg)')\n",
    "plt.ylabel('Azimuth (deg)')\n",
    "plt.clabel(C)\n",
    "plt.show()\n",
    "\n",
    "#rbf = interpolate.Rbf(X.ravel(), Y.ravel(), Z.ravel(), smooth=0.000001)\n",
    "#X2,Y2 = np.meshgrid(x,y)\n",
    "#c3 = contourf(X2, Y2, rbf(X2, Y2))\n",
    "#C2 = contour(X2, Y2, rbf(X2, Y2), 8, colors='black', linewidth=.5)\n",
    "#xlabel('Elevation (deg)'), ylabel('Azimuth (deg)')\n",
    "#clabel(C2)\n",
    "#show()"
   ]
  },
  {
   "cell_type": "code",
   "execution_count": null,
   "metadata": {
    "hideCode": false,
    "hidePrompt": false
   },
   "outputs": [],
   "source": [
    "# #TODO make it work \n",
    "\n",
    "# # def heatmap2d(arr: np.ndarray):\n",
    "# #     plt.imshow(arr, cmap='viridis')\n",
    "# #     plt.colorbar()\n",
    "# #     plt.show()\n",
    "\n",
    "# heatmap2d(tow_xyz.T)\n",
    "# heatmap2d(tro_xyz.T)\n",
    "# heatmap2d(combiNS_xyz.T)\n",
    "# heatmap2d(combiEW_xyz.T)"
   ]
  },
  {
   "cell_type": "code",
   "execution_count": null,
   "metadata": {},
   "outputs": [],
   "source": [
    "# dt_gmt = +2 # time difference between Greenwich Mean Time\n",
    "# lat = 35 # Crete\n",
    "# mer = -25 # for Greece check to replace with 15 * dt_gmt\n",
    "# lon = 24 # Crete 35.2401° N, 24.8093° E [east negative, west positive]\n",
    "# #lon = -37 # Athens 37.9838° N, 23.7275° E [east negative, west positive]\n",
    "\n",
    "def ineichen(latitude:float = 35, longitude: float = 24, \n",
    "    tz: str = 'Europe/Athens', \n",
    "    altitude:float = 400, \n",
    "    name = 'Ierapetra' )->pd.DataFrame:\n",
    "    \"\"\"_summary_\n",
    "\n",
    "    Args:\n",
    "        latitude (float, optional): _description_. Defaults to 35.\n",
    "        longitude (float, optional): _description_. Defaults to 24.\n",
    "        tz (str, optional): _description_. Defaults to 'Europe/Athens'.\n",
    "        altitude (float, optional): _description_. Defaults to 400.\n",
    "        name (str, optional): _description_. Defaults to 'Ierapetra'.\n",
    "\n",
    "    Returns:\n",
    "        pd.DataFrame: a Dataframe containing the following columns with index the hourly data\n",
    "            ghi:  global horizontal irradiance[W/m^2]\n",
    "            dni:  direct normal irradiance [W/m^2]\n",
    "            dhi:  diffuse horizontal irradiance [W/m^2]\n",
    "    \"\"\"   \n",
    "    times = pd.date_range(start='2020-01-01', periods=8760, freq='1H', tz=tz) #end='2020-12-31', \n",
    "    solpos = pvlib.solarposition.get_solarposition(times, latitude, longitude)\n",
    "    apparent_zenith = solpos['apparent_zenith']\n",
    "    airmass = pvlib.atmosphere.get_relative_airmass(apparent_zenith)\n",
    "    pressure = pvlib.atmosphere.alt2pres(altitude)\n",
    "    airmass = pvlib.atmosphere.get_absolute_airmass(airmass, pressure)\n",
    "    linke_turbidity = pvlib.clearsky.lookup_linke_turbidity(times, latitude, longitude)\n",
    "    dni_extra = pvlib.irradiance.get_extra_radiation(times)\n",
    "    return pvlib.clearsky.ineichen(apparent_zenith, airmass, linke_turbidity, altitude, dni_extra)\n",
    "df_irr = ineichen()"
   ]
  },
  {
   "cell_type": "code",
   "execution_count": null,
   "metadata": {},
   "outputs": [],
   "source": []
  },
  {
   "cell_type": "code",
   "execution_count": null,
   "metadata": {
    "hideCode": false,
    "hidePrompt": false
   },
   "outputs": [],
   "source": [
    "\n",
    "plt.plot(df_irr.dni)\n",
    "plt.plot(df_irr.dni*costhetai_NS()*IAM_tro(hoy), linestyle='dashed')\n",
    "plt.plot(df_irr.dni*costhetai_EW()*IAM_tro(hoy))\n",
    "plt.plot(df_irr.dni*IAM_tow(hoy))\n",
    "\n",
    "plt.xlim(18275,18276)\n",
    "plt.ylim(0,800)\n",
    "plt.xlabel('Date-Time')\n",
    "plt.ylabel('Irradiance ($W/m^2$)')\n",
    "tower = solarII(df_irr.dni,1,IAM_tow(hoy),225000,99.3)\n",
    "trough = di_sst(df_irr.dni,costhetai_NS(),IAM_tro(hoy),Tr, 5.76, 0.07, 18, 25, 1800)\n",
    "plt.legend(('DNI','Trough NS','Trough EW','Tower','tower','trough'))\n",
    "plt.xticks(rotation=30)\n",
    "Ens = integrate.trapz(df_irr.dni*costhetai_NS()*IAM_tro(hoy)).round(2)\n",
    "Eew = integrate.trapz(df_irr.dni*costhetai_EW()*IAM_tro(hoy)).round(2)\n",
    "Etow = integrate.trapz(df_irr.dni*IAM_tow(hoy)).round(2)\n",
    "print(Ens)\n",
    "print(Eew)\n",
    "Etow\n",
    "plt.savefig(IMG_FOLDER/'Jan.png')"
   ]
  },
  {
   "cell_type": "code",
   "execution_count": null,
   "metadata": {
    "hideCode": false,
    "hidePrompt": false
   },
   "outputs": [],
   "source": [
    "\n",
    "plt.plot(df_irr.dni)\n",
    "plt.plot(df_irr.dni*costhetai_NS()*IAM_tro(hoy), '--')#linestyle='dashed')\n",
    "plt.plot(df_irr.dni*costhetai_EW()*IAM_tro(hoy))\n",
    "plt.plot(df_irr.dni*IAM_tow(hoy))\n",
    "\n",
    "plt.xlim(18500,18501)\n",
    "plt.ylim(0,800)\n",
    "plt.xlabel('Date-Time')\n",
    "plt.ylabel('Irradiance ($W/m^2$)')\n",
    "tower = solarII(df_irr.dni,1,IAM_tow(hoy),225000,99.3)\n",
    "trough = di_sst(df_irr.dni,costhetai_NS(),IAM_tro(hoy),Tr, 5.76, 0.07, 18, 25, 1800)\n",
    "plt.legend(('DNI','Trough NS','Trough EW','Tower','tower','trough'))\n",
    "plt.xticks(rotation=30)\n",
    "Ens = integrate.trapz(df_irr.dni*costhetai_NS()*IAM_tro(hoy)).round(2)\n",
    "Eew = integrate.trapz(df_irr.dni*costhetai_EW()*IAM_tro(hoy)).round(2)\n",
    "Etow = integrate.trapz(df_irr.dni*IAM_tow(hoy)).round(2)\n",
    "print(Ens)\n",
    "print(Eew)\n",
    "Etow\n",
    "plt.savefig(IMG_FOLDER/'Aug.png')"
   ]
  },
  {
   "cell_type": "code",
   "execution_count": null,
   "metadata": {
    "hideCode": false,
    "hidePrompt": false
   },
   "outputs": [],
   "source": [
    "# index = ['Total aperture area $(m^2)$',\n",
    "#          'Geometrical concentration',\n",
    "#          'Power (MW)',\n",
    "#          'Annual energy (MWh)',\n",
    "#          'Capacity factor',\n",
    "#          'DPB',\n",
    "#          'NPV',\n",
    "#          'IRR',\n",
    "#          'Cash flows']\n",
    "# tow_scenaria = pd.DataFrame(np.transpose(tow_scenaria), index=index).round(2)\n",
    "# #np.savetxt(r'C:\\Users\\gearn\\+MyScripts\\Solar\\tables\\tow.txt', tow_scenaria.iloc[:8].values, fmt='%d')\n",
    "# tow_scenaria.iloc[:8].to_csv('tow.csv')\n",
    "# tow_scenaria.iloc[:8]"
   ]
  },
  {
   "cell_type": "code",
   "execution_count": null,
   "metadata": {
    "hideCode": false,
    "hidePrompt": false
   },
   "outputs": [],
   "source": [
    "# trough_scenaria = pd.DataFrame(np.transpose(trough_scenaria), index=index).round(2)\n",
    "# trough_scenaria.iloc[:8]"
   ]
  },
  {
   "cell_type": "code",
   "execution_count": null,
   "metadata": {
    "hideCode": false,
    "hidePrompt": false
   },
   "outputs": [],
   "source": [
    "# troughew_scenaria = pd.DataFrame(np.transpose(troughew_scenaria), index=index).round(2)\n",
    "# troughew_scenaria.iloc[:8]"
   ]
  },
  {
   "cell_type": "code",
   "execution_count": null,
   "metadata": {
    "hideCode": false,
    "hidePrompt": false
   },
   "outputs": [],
   "source": [
    "tow = [17.3385,19.8417,22.3449,24.8481,27.3512,29.8544]\n",
    "trons = [41.8438,38.6251,35.4063,32.1876,28.9688,25.7501]\n",
    "troew = [42.5302,39.2586,35.9871,32.7155,29.444,26.1724]\n",
    "index = ['Tower','Trough NS']\n",
    "df = pd.DataFrame({'Tower':tow[::-1],'Trough NS':trons[::-1]})\n",
    "ax = df.plot.barh(stacked=True, color = ('orange','r'))\n",
    "plt.ylabel('configuration')\n",
    "plt.xlabel('Power (MW)')\n",
    "plt.savefig(IMG_FOLDER /'Fig4a.png')\n",
    "\n",
    "df2 = pd.DataFrame({'Tower':tow[::-1],'Trough EW':troew[::-1]})\n",
    "ax = df2.plot.barh(stacked=True, color = ('orange','r'))\n",
    "plt.ylabel('configuration')\n",
    "plt.xlabel('Power (MW)')\n",
    "plt.savefig(IMG_FOLDER  /'Fig4b.png')"
   ]
  },
  {
   "cell_type": "code",
   "execution_count": null,
   "metadata": {},
   "outputs": [],
   "source": [
    "IMG_FOLDER"
   ]
  },
  {
   "cell_type": "code",
   "execution_count": null,
   "metadata": {},
   "outputs": [],
   "source": []
  }
 ],
 "metadata": {
  "cite2c": {
   "citations": {
    "2341094/VGQS52DN": {
     "id": "2341094/VGQS52DN",
     "title": "Huld et al_2012_A new solar radiation database for estimating PV performance in Europe and.pdf",
     "type": "article"
    }
   }
  },
  "hide_code_all_hidden": false,
  "kernelspec": {
   "display_name": "Python 3.10.4 ('combicsp')",
   "language": "python",
   "name": "python3"
  },
  "language_info": {
   "codemirror_mode": {
    "name": "ipython",
    "version": 3
   },
   "file_extension": ".py",
   "mimetype": "text/x-python",
   "name": "python",
   "nbconvert_exporter": "python",
   "pygments_lexer": "ipython3",
   "version": "3.10.4"
  },
  "vscode": {
   "interpreter": {
    "hash": "4d8ab5f946a96a0eb82b61bd87c0585c28d47bcb77506bff6d6696b4dae495fb"
   }
  }
 },
 "nbformat": 4,
 "nbformat_minor": 4
}
