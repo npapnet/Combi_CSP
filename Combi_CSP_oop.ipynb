{
 "cells": [
  {
   "cell_type": "markdown",
   "metadata": {
    "hideCode": false,
    "hidePrompt": false
   },
   "source": [
    "<h1><center>Dynamic Modeling of Combined Concentrating Solar Tower and Parabolic Trough for\n",
    "Increased Day-to-Day Performance</center></h1>\n",
    "\n",
    "This python notebook provides a quickstart to show how it is possible to use the CombiCSP package."
   ]
  },
  {
   "cell_type": "code",
   "execution_count": null,
   "metadata": {},
   "outputs": [],
   "source": [
    "%load_ext autoreload\n",
    "%autoreload 2"
   ]
  },
  {
   "cell_type": "code",
   "execution_count": null,
   "metadata": {},
   "outputs": [],
   "source": [
    "#imports \n",
    "import numpy as np\n",
    "import pandas as pd\n",
    "import matplotlib.pyplot as plt\n",
    "from scipy import interpolate, integrate\n",
    "import pathlib\n",
    "import pvlib\n",
    "\n",
    "\n",
    "import CombiCSP.misc as cspmisc\n",
    "from CombiCSP.storage import Tr\n",
    "from CombiCSP import HOYS_DEFAULT, SolarTowerCalcs, SolarTroughCalcs, Economic_environment, SolarSystemLocation\n",
    "from CombiCSP.misc import compare_date"
   ]
  },
  {
   "cell_type": "code",
   "execution_count": null,
   "metadata": {},
   "outputs": [],
   "source": [
    "# constants\n",
    "hoy = HOYS_DEFAULT \n",
    "IMG_FOLDER  = pathlib.Path(\"imgs/\")\n",
    "IMG_FOLDER.mkdir(parents=True, exist_ok=True)"
   ]
  },
  {
   "cell_type": "markdown",
   "metadata": {},
   "source": [
    "## 1. Setting up the location of the system\n",
    "\n",
    "the following setups a site location at Ierapetra Crete \n",
    "(longitude =24, latitude = 24 deg,  timezone= GMT+2)."
   ]
  },
  {
   "cell_type": "code",
   "execution_count": null,
   "metadata": {},
   "outputs": [],
   "source": [
    "sslCrete =  SolarSystemLocation(lat=35, lon=24, mer=-25, dt_gmt=+2, alt=0)"
   ]
  },
  {
   "cell_type": "markdown",
   "metadata": {},
   "source": [
    "## 2. Irradiance data \n",
    "\n",
    "Irradiance data for the site can be:\n",
    "-  downloaded from the pvgis online library (requires an active internet connection) or \n",
    "-  locally from a csv file."
   ]
  },
  {
   "cell_type": "code",
   "execution_count": null,
   "metadata": {},
   "outputs": [],
   "source": [
    "fname = pathlib.Path('tests/example_data/tmy_35.015_25.755_2005_2020.csv' )\n",
    "Ib = sslCrete.Ib_from_csv(fname)\n",
    "\n",
    "# calling the pvgis has the following form\n",
    "Ib_pvgis = sslCrete.Ib_from_pvgis(altitude=400,  \n",
    "    tz= 'Europe/Athens',   name='Ierapetra').dni\n",
    "\n",
    "\n",
    "# df_irr = ineichen(latitude = 35, longitude = 24, \n",
    "#     tz= 'Europe/Athens', \n",
    "#     altitude = 400, \n",
    "#     name = 'Ierapetra' )\n",
    "# Ib_pvgis.dni[:24].plot()\n",
    "# df_irr.dni[:24].plot()"
   ]
  },
  {
   "cell_type": "markdown",
   "metadata": {},
   "source": [
    "# 3. Setup Solar Tower and Solar Trough objects. \n",
    "\n",
    "## 3.1 Solar Tower calculations\n",
    "\n",
    "the first step is to define the solar tower object.\n",
    "\n",
    "The following defines a Solar tower with:\n",
    "- altitude of 0.2 km \n",
    "- Ht tower heigh of 0.1 km  (100 m)\n",
    "- Receiver area  =99.3 $m^2$\n",
    "- Heliostat area =225000 $m^2$ "
   ]
  },
  {
   "cell_type": "code",
   "execution_count": null,
   "metadata": {},
   "outputs": [],
   "source": [
    "stCrete =  SolarTowerCalcs(alt = 200*10e-3 , Ht = 0.1, Ar = 99.3 , A_helio = 225000, slobj=sslCrete)"
   ]
  },
  {
   "cell_type": "markdown",
   "metadata": {},
   "source": [
    "In order to perform the calculations:"
   ]
  },
  {
   "cell_type": "code",
   "execution_count": null,
   "metadata": {},
   "outputs": [],
   "source": [
    "oTow = stCrete.perform_calc(Ib=Ib_pvgis, transmittance=1, nG=0.97)\n",
    "\n",
    "cspmisc.heatmap2d(oTow.data4surf().T)\n",
    "cspmisc.heatmap2d_sns(oTow.data4surf().T)\n",
    "plt.title('Power output of a Solar tower  throughout a year [Mw]')"
   ]
  },
  {
   "cell_type": "code",
   "execution_count": null,
   "metadata": {},
   "outputs": [],
   "source": [
    "oTow.print_summary()"
   ]
  },
  {
   "cell_type": "markdown",
   "metadata": {},
   "source": [
    "### 3.1.1.Find required area for target MW\n",
    "\n",
    "By using the cunction **find_area_for_max_MW** it is possible to estimate the required reflected area for producting the target Power output (as a maximum).\n",
    "\n",
    "the function requires the climate conditions, transmittance, and generator efficiency."
   ]
  },
  {
   "cell_type": "code",
   "execution_count": null,
   "metadata": {},
   "outputs": [],
   "source": [
    "area50 = stCrete.find_area_for_max_MW(target_MW=50, Ib=Ib_pvgis, transmittance=1, nG=0.97)\n",
    "print(\"The required are for 50 MW max output is {:.2f} m^2 \".format(area50))"
   ]
  },
  {
   "cell_type": "markdown",
   "metadata": {},
   "source": [
    "## 3.2 Solar Trough calculations\n",
    "\n",
    "A solar trough calculations object can be described as.\n",
    "\n",
    "The following defines a Solar trough with the following characteristics:\n",
    "- focal length of 0.88  [m] focal length CSPP\n",
    "- Number of units N = 1800 # [m * troughs] 25 * 48 \n",
    "- Length of units L = 25 # [m * troughs] 12 * 40 \n",
    "- collector spacing between rows  [m] Ws = 18  \n",
    "- corrector  tube outer diameter [m] Wr = 0.07 \n",
    "- corrector  collector outer diameter [m] Wc = 5.76"
   ]
  },
  {
   "cell_type": "code",
   "execution_count": null,
   "metadata": {},
   "outputs": [],
   "source": [
    "stroCrete =  SolarTroughCalcs(\n",
    "        foc_len = 0.88 # [m] focal length CSPP T.1 in Mosleh19\n",
    "        ,N = 1800 # [m * troughs] 25 * 48 CSPP pp.4 in Mosleh19 for 250 kWe turbine\n",
    "        ,L = 25 # [m * troughs] 12 * 40 DISS pp.3 in Zarza04 for 70MWe turbine  \n",
    "        ,Ws = 18 # [m] width between rows 18 INDITEP in pp.6 Fraidenraich13, pp.5 Zarza06\n",
    "        ,Wr = 0.07 # tube outer diameter [m]\n",
    "        ,Wc = 5.76,\n",
    "        slobj= sslCrete\n",
    "        )\n"
   ]
  },
  {
   "cell_type": "code",
   "execution_count": null,
   "metadata": {},
   "outputs": [],
   "source": [
    "otrNS = stroCrete.perform_calcs_NS(Ib=Ib_pvgis, Tr=318)\n",
    "otrEW = stroCrete.perform_calcs_EW(Ib=Ib_pvgis, Tr=318)\n",
    "\n",
    "cspmisc.heatmap2d_sns(otrNS.data4surf().T)\n",
    "plt.title('Power output of a Solar Trough NS   throughout a year [Mw]')\n",
    "cspmisc.heatmap2d_sns(otrEW.data4surf().T)\n",
    "plt.title('Power output of a Solar Trough EW   throughout a year [Mw]')"
   ]
  },
  {
   "cell_type": "markdown",
   "metadata": {},
   "source": [
    "## comparison between Solar Tower and Trough EW, NS\n",
    "\n",
    "In order to compare the performance between the trough with EW, NS alignments and the tower performance, the `compare_date` function can be used. "
   ]
  },
  {
   "cell_type": "code",
   "execution_count": null,
   "metadata": {},
   "outputs": [],
   "source": [
    "compare_date('2020-01-14', trough=stroCrete, tower=stCrete, Ib= Ib_pvgis, save_to_file=True)"
   ]
  },
  {
   "cell_type": "markdown",
   "metadata": {},
   "source": [
    "Data From  in August 26th"
   ]
  },
  {
   "cell_type": "code",
   "execution_count": null,
   "metadata": {},
   "outputs": [],
   "source": [
    "compare_date('2020-08-26', trough=stroCrete, tower=stCrete, Ib=Ib_pvgis, save_to_file=True)"
   ]
  },
  {
   "cell_type": "markdown",
   "metadata": {},
   "source": [
    "## . Economic Analysis"
   ]
  },
  {
   "cell_type": "code",
   "execution_count": null,
   "metadata": {},
   "outputs": [],
   "source": [
    "ee = Economic_environment(   \n",
    "            oil_price=60, \n",
    "            Eoil=11.766,\n",
    "            currency_units='USD')\n"
   ]
  },
  {
   "cell_type": "markdown",
   "metadata": {},
   "source": [
    "# miscellaneous \n",
    "\n",
    "The following plots data from ?? efficiency "
   ]
  },
  {
   "cell_type": "code",
   "execution_count": null,
   "metadata": {
    "hideCode": false,
    "hidePrompt": false
   },
   "outputs": [],
   "source": [
    "\n",
    "# # def heatmap2d(arr: np.ndarray):\n",
    "# #     plt.imshow(arr, cmap='viridis')\n",
    "# #     plt.colorbar()\n",
    "# #     plt.show()\n",
    "\n",
    "# heatmap2d(tow_xyz.T)\n",
    "# heatmap2d(tro_xyz.T)\n",
    "# heatmap2d(combiNS_xyz.T)\n",
    "# heatmap2d(combiEW_xyz.T)"
   ]
  },
  {
   "cell_type": "code",
   "execution_count": null,
   "metadata": {
    "hideCode": false,
    "hidePrompt": false
   },
   "outputs": [],
   "source": [
    "# index = ['Total aperture area $(m^2)$',\n",
    "#          'Geometrical concentration',\n",
    "#          'Power (MW)',\n",
    "#          'Annual energy (MWh)',\n",
    "#          'Capacity factor',\n",
    "#          'DPB',\n",
    "#          'NPV',\n",
    "#          'IRR',\n",
    "#          'Cash flows']\n",
    "# tow_scenaria = pd.DataFrame(np.transpose(tow_scenaria), index=index).round(2)\n",
    "# #np.savetxt(r'C:\\Users\\gearn\\+MyScripts\\Solar\\tables\\tow.txt', tow_scenaria.iloc[:8].values, fmt='%d')\n",
    "# tow_scenaria.iloc[:8].to_csv('tow.csv')\n",
    "# tow_scenaria.iloc[:8]"
   ]
  },
  {
   "cell_type": "code",
   "execution_count": null,
   "metadata": {
    "hideCode": false,
    "hidePrompt": false
   },
   "outputs": [],
   "source": [
    "# trough_scenaria = pd.DataFrame(np.transpose(trough_scenaria), index=index).round(2)\n",
    "# trough_scenaria.iloc[:8]"
   ]
  },
  {
   "cell_type": "code",
   "execution_count": null,
   "metadata": {
    "hideCode": false,
    "hidePrompt": false
   },
   "outputs": [],
   "source": [
    "# troughew_scenaria = pd.DataFrame(np.transpose(troughew_scenaria), index=index).round(2)\n",
    "# troughew_scenaria.iloc[:8]"
   ]
  },
  {
   "cell_type": "code",
   "execution_count": null,
   "metadata": {
    "hideCode": false,
    "hidePrompt": false
   },
   "outputs": [],
   "source": [
    "tow = [17.3385,19.8417,22.3449,24.8481,27.3512,29.8544]\n",
    "trons = [41.8438,38.6251,35.4063,32.1876,28.9688,25.7501]\n",
    "troew = [42.5302,39.2586,35.9871,32.7155,29.444,26.1724]\n",
    "index = ['Tower','Trough NS']\n",
    "df = pd.DataFrame({'Tower':tow[::-1],'Trough NS':trons[::-1]})\n",
    "ax = df.plot.barh(stacked=True, color = ('orange','r'))\n",
    "plt.ylabel('configuration')\n",
    "plt.xlabel('Power (MW)')\n",
    "plt.savefig(IMG_FOLDER /'Fig4a.png')\n",
    "\n",
    "df2 = pd.DataFrame({'Tower':tow[::-1],'Trough EW':troew[::-1]})\n",
    "ax = df2.plot.barh(stacked=True, color = ('orange','r'))\n",
    "plt.ylabel('configuration')\n",
    "plt.xlabel('Power (MW)')\n",
    "plt.savefig(IMG_FOLDER  /'Fig4b.png')"
   ]
  },
  {
   "cell_type": "code",
   "execution_count": null,
   "metadata": {},
   "outputs": [],
   "source": []
  }
 ],
 "metadata": {
  "cite2c": {
   "citations": {
    "2341094/VGQS52DN": {
     "id": "2341094/VGQS52DN",
     "title": "Huld et al_2012_A new solar radiation database for estimating PV performance in Europe and.pdf",
     "type": "article"
    }
   }
  },
  "hide_code_all_hidden": false,
  "kernelspec": {
   "display_name": "Python 3.10.4 ('combicsp')",
   "language": "python",
   "name": "python3"
  },
  "language_info": {
   "codemirror_mode": {
    "name": "ipython",
    "version": 3
   },
   "file_extension": ".py",
   "mimetype": "text/x-python",
   "name": "python",
   "nbconvert_exporter": "python",
   "pygments_lexer": "ipython3",
   "version": "3.10.4"
  },
  "vscode": {
   "interpreter": {
    "hash": "4d8ab5f946a96a0eb82b61bd87c0585c28d47bcb77506bff6d6696b4dae495fb"
   }
  }
 },
 "nbformat": 4,
 "nbformat_minor": 4
}
